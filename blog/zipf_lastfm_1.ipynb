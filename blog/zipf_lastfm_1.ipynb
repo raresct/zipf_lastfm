{
 "metadata": {
  "name": "zipf_lastfm_1"
 },
 "nbformat": 3,
 "nbformat_minor": 0,
 "worksheets": [
  {
   "cells": [
    {
     "cell_type": "markdown",
     "metadata": {},
     "source": [
      "<h1>Zipf\u2019s law and music listening habits (part I)</h1>\n",
      "***\n",
      "<h2> The Question </h2>\n",
      "<p style=\"text-align: justify;\"><a title=\"Zipf's law\" href=\"http://en.wikipedia.org/wiki/Zipf%27s_law\">Zipf's law </a>has been used to characterize natural language corpora. The law states that the frequency of an utterance in a corpus is inversely proportional to the rank of the utterance in the frequency table. In this post (and especially in future ones), I investigate if the Zipfian distribution provides an adequate model for music listening habits.</p>    \n",
      "\n",
      "<h2 style=\"text-align: justify;\">Data and tools</h2>\n",
      "<p style=\"text-align: justify;\">I used data from <a title=\"Last.fm\" href=\"http://www.last.fm\" target=\"_blank\">Last.fm</a>, a website which tracks/albums/artists you have been listening to through a client/plugin for your music player. The data can be accessed from the <a title=\"official API\" href=\"http://www.last.fm/api\" target=\"_blank\">official API</a>. In this post, I only analyzed a single user (which turns out to be yours truly). The code is written in Python and can be viewed/downloaded <a title=\"here\" href=\"https://github.com/raresct/zipf_lastfm\" target=\"_blank\">here</a>. Note that you will need to create in the root directory a file called \"api_key.txt\" containing (only) your Last.fm api key, that can be easily obtained by a Last.fm user from the API page linked above. If you are not a Last.fm user, registration is free. The Python modules I used are:\n"
     ]
    },
    {
     "cell_type": "code",
     "collapsed": false,
     "input": [
      "%pylab inline\n",
      "from zipf_lastfm import *"
     ],
     "language": "python",
     "metadata": {},
     "outputs": [
      {
       "output_type": "stream",
       "stream": "stdout",
       "text": [
        "\n",
        "Welcome to pylab, a matplotlib-based Python environment [backend: module://IPython.zmq.pylab.backend_inline].\n",
        "For more information, type 'help(pylab)'.\n"
       ]
      }
     ],
     "prompt_number": 1
    },
    {
     "cell_type": "markdown",
     "metadata": {},
     "source": [
      "<p style=\"text-align: justify;\">which uses:</p>\n",
      "\n",
      "    import stats_util as su\n",
      "    import lastfm_api as last\n",
      "    import numpy as np\n",
      "    import matplotlib.pyplot as plt\n",
      "    import scipy.optimize as opt\n",
      "\n",
      "<p style=\"text-align: justify;\">The first two modules are defined in the project: <code>stats_util</code> contains stats functions, <code>lastfm_api</code> contains a minimal class for calling API methods. The last three modules are common for data analysis in Python.</p>"
     ]
    },
    {
     "cell_type": "markdown",
     "metadata": {},
     "source": [
      "<h2 style=\"text-align: justify;\">The Story (or the butterfly effect)</h2>\n",
      "<p style=\"text-align: justify;\">This section can be skipped, as it is essentially the story on how I ended up doing this. It all started with <a href=\"http://www.reddit.com/r/learnpython/comments/18hdv6/ereader_optimized_versions_of_think_python_and/\" target=\"_blank\">this reddit post</a>, which mentioned two books by Allen B. Downey: <a href=\"http://www.greenteapress.com/thinkpython/\" target=\"_blank\">Think Python</a> and <a href=\"http://www.greenteapress.com/compmod/\" target=\"_blank\">Think Complexity</a>. They are both available to download for free, so naturally I got them (3-4 days ago). Today, I cleaned up my Downloads folder, and here they were, two untouched pdfs. I started randomly skimming through Think Complexity and stumbled upon Zipf's Law at the beginning of Chapter 5. It was new to me, although I occasionally read stuff on statistics and/or natural language processing (NLP). Then it struck me: yesterday I was thinking of a suitable probability distribution that could model the most \"scrobbled\" artists <a href=\"#f1\">[1]</a> for a Last.fm user. The Zipfian distribution suddenly appeared as an appealing candidate. So today, instead of being productive, I spent some time thinking and working on this idea.</p>"
     ]
    },
    {
     "cell_type": "markdown",
     "metadata": {},
     "source": [
      "<h2 style=\"text-align: justify;\">Getting user data</h2>\n",
      "<p style=\"text-align: justify;\">I decided, as an initial experiment (which makes up all this post), to focus on only one user, and out of shyness or narcissism I chose myself as the \"victim\". For reference, this is <a href=\"http://www.last.fm/user/Hermes_Thoth\" target=\"_blank\">my Last.fm user profile</a>, but be warned, it is dominated by heavy metal and some of its wonderful subgenres. As you scroll down, you'll see a Top Artists heading and a chart below. My default is to show my top artists for the last 7 days, however in what follows I actually consider the scrobbles for the whole time I've been on Last.fm (they can be viewed in the Overall tab of the chart). The remainder of the section is about getting this information into our program.</p>\n",
      "<p style=\"text-align: justify;\">As mentioned above, I used the <a href=\"http://www.last.fm/api\" target=\"_blank\">Last.fm API</a>. Here is a <em>very, very</em> primitive wrapper for calling it <a href=\"#f1\">[2]</a>:</p>\n",
      "\n",
      "    class LastFmApi:\n",
      "      def __init__(self, api_key=None):\n",
      "        self.api_key = api_key\n",
      "      def call(self, method=None, artist=None, limit=None, \n",
      "            user = None, api_key=None):\n",
      "        if api_key is None:\n",
      "          api_key = self.api_key\n",
      "        addr  = 'http://ws.audioscrobbler.com/2.0/?'\n",
      "        aritst,user = [urllib2.quote(x) if x else '' for x in [artist, user]]\n",
      "        addr += ('&api_key={}&method={}&artist={}&user={}&limit={}'\n",
      "            .format(api_key, method, artist, user, limit))\n",
      "        addr +='&format=json'\n",
      "        req = urllib2.Request(url=addr)\n",
      "        api_page = urllib2.urlopen(req)\n",
      "        return json.loads(api_page.read())\n",
      "\n",
      "    \n",
      "<p style=\"text-align: justify;\">Now I am able to get the number of scrobbles for each of the $N$ most scrobbled artists for a given user:</p>\n",
      "\n",
      "    class LastFmUser:\n",
      "      def __init__(self, api_key=None, user=None):\n",
      "        self.lastApi  = LastFmApi(api_key)\n",
      "        self.user     = user\n",
      "      def get_top_plays(self, limit=30):\n",
      "        doc = self.lastApi.call(method='user.gettopartists', \n",
      "            user=self.user, limit=limit)\n",
      "        return [a['playcount'] for a in doc['topartists']['artist']]\n",
      "\n",
      "<p style=\"text-align: justify;\">Let's retrieve the relative frequencies for my top 30 artists:</p>\n",
      "\n"
     ]
    },
    {
     "cell_type": "code",
     "collapsed": false,
     "input": [
      "api_key = None\n",
      "with open('../api_key/api_key.txt', 'r') as f:\n",
      "    api_key = f.read().strip()\n",
      "username = 'hermes_thoth'\n",
      "N = 30\n",
      "user = last.LastFmUser(api_key, username)\n",
      "playcounts = user.get_top_plays(N)\n",
      "fplays = [float(i) for i in playcounts]\n",
      "total_counts = np.sum(fplays)\n",
      "f_counts = [ float(i)/total_counts for i in fplays]\n",
      "print('Top plays: '+str([int(x) for x in fplays[:10]])+' etc.')\n",
      "print('Frequenices: '+str(['{0:.4f}'.format(x) for x in f_counts[:10]])+' etc.')"
     ],
     "language": "python",
     "metadata": {},
     "outputs": [
      {
       "output_type": "stream",
       "stream": "stdout",
       "text": [
        "Top plays: [1121, 719, 631, 504, 443, 422, 379, 372, 366, 351] etc.\n",
        "Frequenices: ['0.1060', '0.0680', '0.0597', '0.0477', '0.0419', '0.0399', '0.0358', '0.0352', '0.0346', '0.0332'] etc.\n"
       ]
      }
     ],
     "prompt_number": 2
    },
    {
     "cell_type": "markdown",
     "metadata": {},
     "source": [
      "<p style=\"text-align: justify;\">Why are we even doing this? Let's briefly review the Zipfian distribution.</p>\n",
      "\n",
      "<h2 style=\"text-align: justify;\">The Zipfian distribution</h2>\n",
      "<p style=\"text-align: justify;\">Suppose we have $N$ ranked items, each having rank $k_{i}$,  with frequency $ f_{i}$, $ \\forall i=1, \\dots , N$. The Zipfian distribution allows us to model frequency $ f_{i}$ as a function of $ N$ and $ k_{i}$:</p>\n",
      "<p style=\"text-align: justify;\">$ f_{i} = t \\cdot k_{i}^{-s}$</p>\n",
      "<p style=\"text-align: justify;\">What happened to $N$ and what are $t$ and $s$? As it turns out, $s$ is a parameter of the distribution which controls the influence of the rank on the frequency, and $t$ is a normalization factor:</p>\n",
      "<p style=\"text-align: justify;\">$t = \\left(\\displaystyle\\sum\\limits_{n=1}^{N} k_{n}^{-s}\\right)^{-1}$</p>\n",
      "\n",
      "<p style=\"text-align: justify;\">Inspired by the plots on the Wikipedia page for Zipf's law, I decided to plot the frequencies of my top scrobbled artists and some Zipfian distributions for various values of $s$ (I started with the ones on Wikipedia, and after manual tuning ended up with the ones below):</p>"
     ]
    },
    {
     "cell_type": "code",
     "collapsed": false,
     "input": [
      "some_zipf_dom = [0.25, 0.5, 0.75, 1.0]\n",
      "plt.loglog(range(1,N+1), f_counts, 'r+')\n",
      "lgnd = ['play frequencies']+['s='+str(s) for s in some_zipf_dom]\n",
      "for s in some_zipf_dom:\n",
      "    t = su.zipf_t(s, N)\n",
      "    zipf_vals = [su.zipf(k,s,t) for k in range(1,N+1)]\n",
      "    plt.loglog(range(1,N+1), zipf_vals)\n",
      "plt.xlim([0.0, float(N)])\n",
      "plt.xlabel('rank k')\n",
      "plt.ylabel('frequency f')\n",
      "plt.legend(lgnd,'upper right')\n",
      "plt.show()"
     ],
     "language": "python",
     "metadata": {},
     "outputs": [
      {
       "output_type": "display_data",
       "png": "[encoded data removed]"
      }
     ],
     "prompt_number": 21
    },
    {
     "cell_type": "markdown",
     "metadata": {},
     "source": [
      "<p style=\"text-align: justify;\">Note that the plot is in log-log scale (as Downey observes, if you take the log of the formula for $f$ you get:</p> \n",
      "$log(f) = log(t)-s \\cdot log(k)$ \n",
      "<p style=\"text-align: justify;\">, i.e. plotting $log(r)$ versus $log(k)$ yields a line with slope $-s$ and intercept $log(t)$. Surprise, my listening habits obey Zipf's law with $s=0.5$ (at least on 17th March 2013)! But this is not the full story...</p>\n",
      "\n",
      "<h2 style=\"text-align: justify;\">Fitting our parameter</h2>\n",
      "<p style=\"text-align: justify;\">This graphical observation must be explained in a quantitative manner, i.e. we want to define the quality of the fit and possibly get the best fit. This means that if the real frequencies are $f^{obs}$ and our fitted frequencies $\\hat{f}$, then we want $\\hat{s} = \\arg\\displaystyle\\min\\limits_{s} Err(f^{obs}, \\hat{f})$.</p>\n",
      "<p style=\"text-align: justify;\">All we are left to do is define $Err(f^{obs}, \\hat{f})$. I found <a href=\"http://stats.stackexchange.com/questions/6780/how-to-calculate-zipfs-law-coefficient-from-a-set-of-top-frequencies\" target=\"_blank\">these solutions in R</a> using the least squares error function or maximizing the likelihood. However, instead of being tempted to use those, I decided to venture out and try the <a href=\"http://en.wikipedia.org/wiki/Kullback%E2%80%93Leibler_divergence\" target=\"_blank\">Kullback-Leibler divergence</a> (or relative entropy) as a measure of the fit. For the discrete case (which is our case), the formula for KL divergence for two probability distributions $p$ and $q$ is:</p>\n",
      "<p style=\"text-align: justify;\">$D(p \\vert\\vert q) = \\displaystyle\\sum\\limits_{x \\in X} p(x) log\\frac{p(x)}{q(x)}$</p>\n",
      "<p style=\"text-align: justify;\">That's fine and dandy, but which of $lf^{obs}, \\hat{f}$ is $p$ and which $q$? <a href=\"#f3\">[3]</a> The saving answer came from Manning and Sch\u00fctze's <a href=\"http://nlp.stanford.edu/fsnlp/\" target=\"_blank\">Foundations of Statistical Natural Language Processing</a>, which recalls that: \"the KL divergence between $p$ and $q$ is the average number of bits that are wasted by encoding events from a distribution $p$ with a code based on a not-quite-right distribution $q$\". So I've chosen the observed frequencies $f^{obs}$ as $p$ and the fitted ones $\\hat{f}$ as $q$.</p>\n",
      "<p style=\"text-align: justify;\">Let's plot the KL divergence for different values of $s$. From the previous plot, we know that a good fit is $s=0.5$, so let's take values from $(0.25, 0.75)$:</p>\n",
      "\n"
     ]
    },
    {
     "cell_type": "code",
     "collapsed": false,
     "input": [
      "fit_zipf_dom = np.arange(0.25, 0.75, 0.01)\n",
      "kls = []\n",
      "for s in fit_zipf_dom:\n",
      "    t = su.zipf_t(s, N)\n",
      "    zipf_vals = [su.zipf(k,s,t) for k in range(1,N+1)]\n",
      "    kls.append(float(su.kl_divergence(f_counts, zipf_vals)))\n",
      "plt.plot(fit_zipf_dom, kls)\n",
      "plt.xlabel('s')\n",
      "plt.legend(['KL divergence'], 'upper right')\n",
      "plt.xlim([fit_zipf_dom[0], fit_zipf_dom[-1]])\n",
      "plt.show()"
     ],
     "language": "python",
     "metadata": {},
     "outputs": [
      {
       "output_type": "display_data",
       "png": "[encoded data removed]"
      }
     ],
     "prompt_number": 16
    },
    {
     "cell_type": "markdown",
     "metadata": {},
     "source": [
      "<p style=\"text-align: justify;\">As you may have expected, the KL divergence is a \"well behaved\" error function in our case, with a single global minimum. The graphical result was confirmed by minimizing the function using scipy.optimize (abbreviated in the code as opt):</p>"
     ]
    },
    {
     "cell_type": "code",
     "collapsed": false,
     "input": [
      "xmin = opt.fmin(su.kl_optimize, [0], args=([f_counts]))\n",
      "print('Minimum at:{}'.format(xmin))"
     ],
     "language": "python",
     "metadata": {},
     "outputs": [
      {
       "output_type": "stream",
       "stream": "stdout",
       "text": [
        "Optimization terminated successfully.\n",
        "         Current function value: 0.001952\n",
        "         Iterations: 23\n",
        "         Function evaluations: 46\n",
        "Minimum at:[ 0.4748125]\n"
       ]
      }
     ],
     "prompt_number": 25
    },
    {
     "cell_type": "markdown",
     "metadata": {},
     "source": [
      "<h2 style=\"text-align: justify;\">Conclusions</h2>\n",
      "<p style=\"text-align: justify;\">In this post I have established that my listening habits seem to obey Zipf's law. In the next posts, I will extend my analysis to multiple users using a random walk through the Last.fm user graph, where edges are friendship relations. Is there a consistent trend among users, i.e. a good fit for a fixed $s$? Or maybe we can group/cluster users based on a (finite) set of Zipfian distributions, such that  each distribution models one group? Finally, how does the KL divergence compare to other error measures on multiple user data? We hope to at least partially answer these questions in the (not too far) future.</p>\n",
      "\n",
      "<h3 style=\"text-align: justify;\">Notes</h3>\n",
      "<p style=\"text-align: justify;\"><a href=\"#f1\"> [1]</a> <a name=\"f1\"></a>When Last.fm tracks the song you're listening to, that song is said to be \"scrobbled\". The most \"scrobbled\" artists thus are the ones you have been listening to the most (at least the ones which Last.fm managed to pick up).</p>\n",
      "<p style=\"text-align: justify;\"><a href=\"#f2\"> [2]</a> <a name=\"f2\"></a>I am aware that proper wrappers exist, e.g. <a href=\"https://github.com/lipka/pylast\" target=\"_blank\">pyLast</a>, I just wanted to do it myself.</p>\n",
      "<p style=\"text-align: justify;\"><a href=\"#f3\"> [3]</a> <a name=\"f3\"></a>Note that KL divergence is not symmetric.</p>"
     ]
    },
    {
     "cell_type": "code",
     "collapsed": false,
     "input": [
      "from IPython.core.display import HTML\n",
      "def css_styling():\n",
      "    styles = open(\"../styles/custom.css\", \"r\").read()\n",
      "    return HTML(styles)\n",
      "css_styling()"
     ],
     "language": "python",
     "metadata": {},
     "outputs": [
      {
       "html": [
        "/* Stolen from: https://raw.github.com/CamDavidsonPilon/Probabilistic-Programming-and-Bayesian-Methods-for-Hackers/master/styles/custom.css */\n",
        "<style>\n",
        "    @font-face {\n",
        "        font-family: \"Computer Modern\";\n",
        "        src: url('http://mirrors.ctan.org/fonts/cm-unicode/fonts/otf/cmunss.otf');\n",
        "    }\n",
        "    div.cell{\n",
        "        width:800px;\n",
        "        margin-left:auto;\n",
        "        margin-right:auto;\n",
        "    }\n",
        "    h1 {\n",
        "        font-family: \"Charis SIL\", Palatino, serif;\n",
        "    }\n",
        "    h4{\n",
        "        margin-top:12px;\n",
        "        margin-bottom: 3px;\n",
        "       }\n",
        "    div.text_cell_render{\n",
        "        font-family: Computer Modern, \"Helvetica Neue\", Arial, Helvetica, Geneva, sans-serif;\n",
        "        line-height: 145%;\n",
        "        font-size: 120%;\n",
        "        width:800px;\n",
        "        margin-left:auto;\n",
        "        margin-right:auto;\n",
        "    }\n",
        "    .CodeMirror{\n",
        "            font-family: \"Source Code Pro\", source-code-pro,Consolas, monospace;\n",
        "    }\n",
        "    .prompt{\n",
        "        display: None;\n",
        "    }\n",
        "    .text_cell_render h5 {\n",
        "        font-weight: 300;\n",
        "        font-size: 16pt;\n",
        "        color: #4057A1;\n",
        "        font-style: italic;\n",
        "        margin-bottom: .5em;\n",
        "        margin-top: 0.5em;\n",
        "        display: block;\n",
        "    }\n",
        "\n",
        "    .warning{\n",
        "        color: rgb( 240, 20, 20 )\n",
        "        }\n",
        "</style>\n",
        "<script>\n",
        "    MathJax.Hub.Config({\n",
        "                        TeX: {\n",
        "                           extensions: [\"AMSmath.js\"]\n",
        "                           },\n",
        "                tex2jax: {\n",
        "                    inlineMath: [ ['$','$'], [\"\\\\(\",\"\\\\)\"] ],\n",
        "                    displayMath: [ ['$$','$$'], [\"\\\\[\",\"\\\\]\"] ]\n",
        "                },\n",
        "                displayAlign: 'center', // Change this to 'center' to center equations.\n",
        "                \"HTML-CSS\": {\n",
        "                    styles: {'.MathJax_Display': {\"margin\": 4}}\n",
        "                }\n",
        "        });\n",
        "</script>\n"
       ],
       "output_type": "pyout",
       "prompt_number": 4,
       "text": [
        "<IPython.core.display.HTML at 0x4224cf0>"
       ]
      }
     ],
     "prompt_number": 4
    },
    {
     "cell_type": "code",
     "collapsed": false,
     "input": [],
     "language": "python",
     "metadata": {},
     "outputs": [],
     "prompt_number": 4
    }
   ],
   "metadata": {}
  }
 ]
}
